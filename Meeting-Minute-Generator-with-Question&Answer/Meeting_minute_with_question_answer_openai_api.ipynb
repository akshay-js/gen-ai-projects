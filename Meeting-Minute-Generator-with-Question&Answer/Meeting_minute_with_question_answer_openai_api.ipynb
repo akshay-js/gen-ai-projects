{
  "cells": [
    {
      "cell_type": "markdown",
      "metadata": {
        "id": "9NYLowWRdwbI"
      },
      "source": [
        "# **Installation of required packages**"
      ]
    },
    {
      "cell_type": "code",
      "execution_count": null,
      "metadata": {
        "colab": {
          "base_uri": "https://localhost:8080/"
        },
        "collapsed": true,
        "id": "w1UcKaKsj8cC",
        "outputId": "bf13b2ec-3fad-4481-b93b-9a1fc09dea82"
      },
      "outputs": [],
      "source": [
        "!pip install openai"
      ]
    },
    {
      "cell_type": "markdown",
      "metadata": {
        "id": "_jxuQRixd3Du"
      },
      "source": [
        "# **Importing the packages**"
      ]
    },
    {
      "cell_type": "code",
      "execution_count": 2,
      "metadata": {
        "id": "1zD7qlVnmd7y"
      },
      "outputs": [],
      "source": [
        "import openai\n",
        "from openai import OpenAI"
      ]
    },
    {
      "cell_type": "code",
      "execution_count": null,
      "metadata": {
        "colab": {
          "base_uri": "https://localhost:8080/"
        },
        "collapsed": true,
        "id": "5dgTYlt7SQ5C",
        "outputId": "19b2e4a5-cff0-4f21-8586-e19818e78524"
      },
      "outputs": [],
      "source": [
        "#the ffmpeg tool to convert an audio file called EarningsCall.wav to a new file called EarningsCall_16k.wav.\n",
        "!ffmpeg -i /content/EarningsCall.wav -ar 16000 -ac 1 /content/EarningsCall_16k.wav"
      ]
    },
    {
      "cell_type": "markdown",
      "metadata": {
        "id": "msVunJi-eOSK"
      },
      "source": [
        "## **Transcribing audio file with Whisper-1**\n",
        "\n",
        "---\n",
        "\n"
      ]
    },
    {
      "cell_type": "code",
      "execution_count": 5,
      "metadata": {
        "colab": {
          "base_uri": "https://localhost:8080/",
          "height": 295
        },
        "id": "tgnapIfu0-fn",
        "outputId": "b0b1d431-f1f7-495e-ec2b-8d7a1eac23c6"
      },
      "outputs": [
        {
          "data": {
            "text/plain": [
              "Transcription(text=\"Good afternoon, everyone, and welcome to FinTech Plus Sync's 2nd quarter 2023 earnings call. I'm John Doe, CEO of FinTech Plus. We've had a stellar Q2 with a revenue of $125 million, a 25% increase year over year. Our gross profit margin stands at a solid 58%, due in part to cost efficiencies gained from our scalable business model. Our EBITDA has surged to $37.5 million, translating to a remarkable 30% EBITDA margin. Our net income for the quarter rose to $16 million, which is a noteworthy increase from $10 million in Q2 2022. Our total addressable market has grown substantially, thanks to the expansion of our high-yield savings product line and the new RoboAdvisor platform. We've been diversifying our asset-backed securities portfolio, investing heavily in collateralized debt obligations and residential mortgage-backed securities. We've also invested $25 million in AAA-rated corporate bonds, enhancing our risk-adjusted returns. As for our balance sheet, total assets reached $1.5 billion, with total liabilities at $900 million, leaving us with a solid equity base of $600 million. Our debt-to-equity ratio stands at 1.5, a healthy figure considering our expansionary phase. We continue to see substantial organic user growth, with customer acquisition costs dropping by 15% and lifetime value growing by 25%. Our LTVCAC ratio is at an impressive 3.5%. In terms of risk management, we have a value-at-risk model in place, with a 99% confidence level indicating that our maximum loss will not exceed $5 million in the next trading day. We've adopted a conservative approach to managing our leverage, and have a healthy tier-one capital ratio of 12.5%. Our forecast for the coming quarter is positive. We expect revenue to be around $135 million and 8% quarter-over-quarter growth, driven primarily by our cutting-edge blockchain solutions and AI-driven predictive analytics. We're also excited about the upcoming IPO of our fintech subsidiary, Pay Plus, which we expect to raise $200 million, significantly bolstering our liquidity and paving the way for aggressive growth strategies. We thank our shareholders for their continued faith in us, and we look forward to an even more successful Q3. Thank you so much.\")"
            ]
          },
          "metadata": {},
          "output_type": "display_data"
        }
      ],
      "source": [
        "#meeting audio transcription\n",
        "API_KEY = '<put openai API key>'\n",
        "openai = OpenAI(api_key=API_KEY)\n",
        "\n",
        "audio_file= open(\"/content/EarningsCall_16k.wav\", \"rb\")\n",
        "transcript = openai.audio.transcriptions.create(\n",
        "  model=\"whisper-1\",\n",
        "  file=audio_file\n",
        ")\n",
        "display(transcript)"
      ]
    },
    {
      "cell_type": "markdown",
      "metadata": {
        "id": "3xKmnHn7ebwM"
      },
      "source": [
        "# **Generating the meeting minute**"
      ]
    },
    {
      "cell_type": "code",
      "execution_count": 6,
      "metadata": {
        "colab": {
          "base_uri": "https://localhost:8080/",
          "height": 140
        },
        "id": "fWeQfM2WKheb",
        "outputId": "ce30843d-257b-4806-a641-1fcf5c271666"
      },
      "outputs": [
        {
          "data": {
            "application/vnd.google.colaboratory.intrinsic+json": {
              "type": "string"
            },
            "text/plain": [
              "\"FinTech Plus Sync reported a successful Q2 2023, with a 25% YoY increase in revenue to $125 million, a gross profit margin of 58%, and a 30% EBITDA margin. The company's net income rose to $16 million, up from $10 million in Q2 2022. The expansion of their high-yield savings product line and the new RoboAdvisor platform have significantly grown their total addressable market. They have diversified their asset-backed securities portfolio and invested $25 million in AAA-rated corporate bonds. The company's total assets reached $1.5 billion, with total liabilities at $900 million, resulting in a solid equity base of $600 million. They have seen substantial organic user growth, with customer acquisition costs dropping by 15% and lifetime value growing by 25%. The company expects Q3 revenue to be around $135 million, driven by their blockchain solutions and AI-driven predictive analytics. They also anticipate raising $200 million from the upcoming IPO of their fintech subsidiary, Pay Plus.\\n\""
            ]
          },
          "metadata": {},
          "output_type": "display_data"
        }
      ],
      "source": [
        "#Prompt for meeting minutes\n",
        "\n",
        "response = openai.chat.completions.create(\n",
        "    model=\"gpt-4\",\n",
        "    temperature=0,\n",
        "    messages=[\n",
        "        {\n",
        "            \"role\": \"system\",\n",
        "            \"content\": \"You are a highly skilled AI trained in language comprehension and summarization. I would like you to read the following text and summarize it into a concise abstract paragraph. Aim to retain the most important points, providing a coherent and readable summary that could help a person understand the main points of the discussion without needing to read the entire text. Please avoid unnecessary details or tangential points.\"\n",
        "        },\n",
        "        {\n",
        "            \"role\": \"user\",\n",
        "            \"content\": transcript.text\n",
        "        }\n",
        "    ]\n",
        ")\n",
        "display(response.choices[0].message.content)"
      ]
    },
    {
      "cell_type": "markdown",
      "metadata": {
        "id": "wIGaOLTxen4i"
      },
      "source": [
        "# **Q&A**"
      ]
    },
    {
      "cell_type": "code",
      "execution_count": 9,
      "metadata": {
        "colab": {
          "base_uri": "https://localhost:8080/"
        },
        "id": "qMOekefKSoJh",
        "outputId": "59d68896-451f-4aa4-bac8-fdb0caca52af"
      },
      "outputs": [
        {
          "name": "stdout",
          "output_type": "stream",
          "text": [
            "Enter your question (or 'end' to quit): How much assets reached ?\n",
            "Answer: The total assets of FinTech Plus Sync reached $1.5 billion in Q2 2023.\n",
            "Enter your question (or 'end' to quit): How much Our debt to equity ratio is ?\n",
            "Answer: The debt-to-equity ratio of FinTech Plus Sync for the 2nd quarter of 2023 stands at 1.5.\n",
            "Enter your question (or 'end' to quit): What is name of upcoming IPO ?\n",
            "Answer: The name of the upcoming IPO is Pay Plus.\n",
            "Enter your question (or 'end' to quit): end\n"
          ]
        }
      ],
      "source": [
        "def answer_question(transcription, question):\n",
        "    response = openai.chat.completions.create(\n",
        "        model=\"gpt-4\",\n",
        "        messages=[\n",
        "        {\n",
        "            \"role\": \"system\",\n",
        "            \"content\": \"You are a highly skilled AI trained in language comprehension and summarization.\"\n",
        "        },\n",
        "        {\n",
        "            \"role\": \"user\",\n",
        "            \"content\": f\" I would like you to read the content and share some meeting answer of the question. below is the content {transcription} & question is {question}\"\n",
        "        }\n",
        "        ]\n",
        "    )\n",
        "    answer = response.choices[0].message.content\n",
        "    return answer\n",
        "\n",
        "while True:\n",
        "  question = input(\"Enter your question (or 'end' to quit): \")\n",
        "  if question == \"end\":\n",
        "    break\n",
        "\n",
        "  res = answer_question(transcript.text, question)\n",
        "  print(f\"Answer: {res}\")"
      ]
    }
  ],
  "metadata": {
    "colab": {
      "provenance": []
    },
    "kernelspec": {
      "display_name": "Python 3",
      "name": "python3"
    },
    "language_info": {
      "name": "python"
    }
  },
  "nbformat": 4,
  "nbformat_minor": 0
}
